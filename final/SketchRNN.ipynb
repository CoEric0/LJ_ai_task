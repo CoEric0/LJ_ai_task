{
 "cells": [
  {
   "cell_type": "markdown",
   "metadata": {},
   "source": [
    "# 1 一些参数"
   ]
  },
  {
   "cell_type": "code",
   "execution_count": null,
   "metadata": {},
   "outputs": [],
   "source": [
    "class config:\n",
    "    def __init__(self):\n",
    "        self.aaaaaaa = 1"
   ]
  },
  {
   "cell_type": "markdown",
   "metadata": {},
   "source": [
    "# 2 数据\n",
    "读入数据，并对数据进行预处理"
   ]
  },
  {
   "cell_type": "code",
   "execution_count": null,
   "metadata": {},
   "outputs": [],
   "source": [
    "\n",
    "#1\n",
    "data = list(map(\n",
    "  lambda path: np.load(path, encoding='latin1', allow_pickle=True), \n",
    "  config.data_path_list\n",
    "))\n",
    "\n",
    "train_data = list(map(lambda d: d['train'], data))\n",
    "train_data = purify(train_data)\n",
    "train_data = normalize(train_data)\n",
    "train_Nmax = max_size(train_data)\n",
    "\n",
    "val_data = list(map(lambda d: d['valid'], data))\n",
    "val_data = purify(val_data)\n",
    "val_data = normalize(val_data)\n",
    "val_Nmax = max_size(val_data)\n",
    "\n",
    "test_data = list(map(lambda d: d['test'], data))\n",
    "test_data = purify(test_data)\n",
    "test_data = normalize(test_data)\n",
    "test_Nmax = max_size(test_data)"
   ]
  },
  {
   "cell_type": "markdown",
   "metadata": {},
   "source": [
    "# 3 模型搭建"
   ]
  },
  {
   "cell_type": "code",
   "execution_count": null,
   "metadata": {},
   "outputs": [],
   "source": [
    "\n",
    "# 2 \n",
    "#  使用dropout\n",
    "class encoderRNN(nn.Module):\n",
    "    def __init__(self, config):\n",
    "        super(encoderRNN, self).__init__()\n",
    "        self.lstm = nn.LSTM(5, config.hidden_size, config.num_layers, dropout=config.dropout_p, bidirectional=True)\n",
    "\n",
    "    \n",
    "    def forward(self, input, hidden):\n",
    "\n",
    "# 2\n",
    "class decoderRNN(nn.Module):\n",
    "    def __init__(self, config):\n",
    "        super(decoderRNN, self).__init__()\n",
    "        \n",
    "\n",
    "    \n",
    "    def forward(self, input, hidden):\n",
    "    \n",
    "\n",
    "\n",
    "    # 根据状态（训练or展示结果）决定输出的下一步处理\n",
    "\n",
    "    # split -> 6m+3结果\n",
    "\n",
    "    # GMM模型及其他处理\n"
   ]
  },
  {
   "cell_type": "markdown",
   "metadata": {},
   "source": [
    "\n",
    "# 4 训练设定"
   ]
  },
  {
   "cell_type": "code",
   "execution_count": null,
   "metadata": {},
   "outputs": [],
   "source": [
    "# 1\n",
    "class model(nn.Module):\n",
    "    def __init__(self, config):\n",
    "        super(model, self).__init__()\n",
    "        self.encoder = encoderRNN(config)\n",
    "        self.decoder = decoderRNN(config)\n",
    "\n",
    "        self.encoder_optimizer = optim.Adam(self.encoder.parameters(), lr=config.learning_rate)\n",
    "        self.decoder_optimizer = optim.Adam(self.decoder.parameters(), lr=config.learning_rate)\n",
    "\n",
    "\n",
    "    def train(self, config, train_data, val_data):\n",
    "\n",
    "        make_batch()\n",
    "         \n",
    "        # encode\n",
    "\n",
    "\n",
    "        # decode\n",
    "        # S0数据准备\n",
    "        \n",
    "\n",
    "\n"
   ]
  }
 ],
 "metadata": {
  "language_info": {
   "name": "python"
  }
 },
 "nbformat": 4,
 "nbformat_minor": 2
}
