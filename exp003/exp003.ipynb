{
 "cells": [
  {
   "cell_type": "markdown",
   "metadata": {},
   "source": [
    "# 任务一 复合函数的计算图，计算雅可比行列式"
   ]
  },
  {
   "cell_type": "markdown",
   "metadata": {},
   "source": [
    "## 1.1 numpy实现"
   ]
  },
  {
   "cell_type": "code",
   "execution_count": 19,
   "metadata": {},
   "outputs": [],
   "source": [
    "import numpy as np\n",
    "import pandas as pd\n",
    "import matplotlib.pyplot as plt\n",
    "\n",
    "class Computational_Graph:\n",
    "    def __init__(self) -> None:\n",
    "    #初始化x1，x2，x3\n",
    "        self.x1 = 0\n",
    "        self.x2 = 0\n",
    "        self.x3 = 0\n",
    "        #初始化z1，z2，z3，用以存储z1，z2，z3的计算结果\n",
    "        self.z1 = 0\n",
    "        self.z2 = 0\n",
    "        self.z3 = 0\n",
    "        #初始化u1，u2，u3，用以存储u1，u2，u3的计算结果\n",
    "        self.u1 = 0\n",
    "        self.u2 = 0\n",
    "        self.u3 = 0\n",
    "        #初始化v1，v2，v3，用以存储v1，v2，v3的计算结果\n",
    "        self.u1 = 0\n",
    "        self.u2 = 0\n",
    "        self.u3 = 0\n",
    "        #初始化y1，y2，用以存储y1，y2的计算结果\n",
    "        self.y1 = 0\n",
    "        self.y2 = 0 \n",
    "        \n",
    "    def function_z1(self,x1,x2):   \n",
    "        return 2*x1 + x2\n",
    "    def function_z2(self,x1,x3):\n",
    "        return  x1 * 3 * x3   \n",
    "    def function_z3(self,x3):\n",
    "        return  -x3\n",
    "    def function_u1(self,z1):\n",
    "        return  np.sin(self.z1)\n",
    "    def function_u2(self,x3,z2):\n",
    "        return (2 * x3)+z2\n",
    "    def function_u3(self,z1,z3):\n",
    "        return (2 * z1) + z3\n",
    "    def function_v1(self,u1,u3):    \n",
    "        return u1 - u3\n",
    "    def function_v2(self,u2): \n",
    "        return np.sin(-1*u2)      \n",
    "    def function_v3(self,u1,u3):\n",
    "        return u1 * u3\n",
    "    def function_y1(self,v1,v2):\n",
    "        return v1**2 + v2**3\n",
    "    def function_y2(self, v2, v3):\n",
    "        return v2*v3\n",
    "\n",
    "#前向传播\n",
    "    def forward(self,x1,x2,x3):\n",
    "        self.x1 = x1\n",
    "        self.x2 = x2\n",
    "        self.x3 = x3\n",
    "\n",
    "        self.z1 = self.function_z1(self.x1, self.x2)\n",
    "        self.z2 = self.function_z2(self.x1, self.x3)\n",
    "        self.z3 = self.function_z3(self.x3)\n",
    "\n",
    "        self.u1 = self.function_u1(self.z1)\n",
    "        self.u2 = self.function_u2(self.x3, self.z2)\n",
    "        self.u3 = self.function_u3(self.z1, self.z3)\n",
    "\n",
    "        self.v1 = self.function_v1(self.u1, self.u3)\n",
    "        self.v2 = self.function_v2(self.u2)\n",
    "        self.v3 = self.function_v3(self.u1, self.u3)\n",
    "\n",
    "        self.y1 = self.function_y1(self.v1, self.v2)\n",
    "        self.y2 = self.function_y2(self.v2, self.v3)\n",
    "\n",
    "        print(f'y1 = {self.y1}, y2 = {self.y2}')\n",
    "\n",
    "\n",
    "\n",
    "#反向传播\n",
    "    def backward(self):\n",
    "        self.y1_to_v1 = 2 * self.v1\n",
    "        self.y1_to_v2 = 3*(self.v2**2)\n",
    "\n",
    "        self.y2_to_v2 = self.v3\n",
    "        self.y2_to_v3 = self.v2\n",
    "\n",
    "        # backward\n",
    "        self.v1_to_u1 = 1\n",
    "        self.v1_to_u3 = -1\n",
    "\n",
    "        self.v2_to_u2 = -1 * np.cos(-1 * self.u2)\n",
    "        \n",
    "        self.v3_to_u1 = self.u3\n",
    "        self.v3_to_u3 = self.u1\n",
    "\n",
    "\n",
    "        # back\n",
    "        self.u1_to_z1 = np.cos(self.z1)\n",
    "\n",
    "        self.u2_to_x3 = 2 \n",
    "        self.u2_to_z2 = 1\n",
    "\n",
    "        self.u3_to_z1 = 2\n",
    "        self.u3_to_z3 = 1\n",
    "\n",
    "\n",
    "        # back\n",
    "        self.z1_to_x1 = 2\n",
    "        self.z1_to_x2 = 1\n",
    "\n",
    "        self.z2_to_x1 = 3*self.x3\n",
    "        self.z2_to_x3 = 3*self.x1\n",
    "\n",
    "        self.z3_to_x3 = -1\n",
    "\n",
    "        # all \n",
    "        self.y1_to_x1 = self.y1_to_v1 * (self.v1_to_u1*(self.u1_to_z1*self.z1_to_x1) + self.v1_to_u3 * self.u3_to_z1*self.z1_to_x1) + self.y1_to_v2*self.v2_to_u2*self.u2_to_z2*self.z2_to_x1\n",
    "        self.y1_to_x2 = self.y1_to_v1 * (self.v1_to_u1*(self.u1_to_z1*self.z1_to_x2)+ self.v1_to_u3*self.u3_to_z1*self.z1_to_x2)\n",
    "        self.y1_to_x3 = self.y1_to_v1 * (self.v1_to_u3*self.u3_to_z3*self.z3_to_x3) + self.y1_to_v2*self.v2_to_u2*(self.u2_to_x3 +self.u2_to_z2*self.z2_to_x3)\n",
    "\n",
    "        self.y2_to_x1 = self.y2_to_v2 * (self.v2_to_u2 * self.u2_to_z2 * self.z2_to_x1) + self.y2_to_v3* (self.v3_to_u1 *self.u1_to_z1 * self.z1_to_x1 + self.v3_to_u3 *self.u3_to_z1*self.z1_to_x1)\n",
    "        self.y2_to_x2 = self.y2_to_v3 * (self.v3_to_u1 * self.u1_to_z1 *self.z1_to_x2 + self.v3_to_u3*self.u3_to_z1*self.z1_to_x2)\n",
    "        self.y2_to_x3 = self.y2_to_v2 * (self.v2_to_u2 * (self.u2_to_x3+ self.u2_to_z2*self.z2_to_x3))+ self.y2_to_v3*self.v3_to_u3*self.u3_to_z3*self.z3_to_x3\n"
   ]
  },
  {
   "cell_type": "code",
   "execution_count": 20,
   "metadata": {},
   "outputs": [
    {
     "name": "stdout",
     "output_type": "stream",
     "text": [
      "y1 = 24.490479942112778, y2 = 0.6766170068463221\n",
      "1,1,1 输入的雅可比行列式为 \n",
      " 55.76452114990751 29.056029435566057 -13.630322852587943 \n",
      " -9.55244091025101 -4.475992380884129 -1.1360836488405153\n"
     ]
    }
   ],
   "source": [
    "res = Computational_Graph()\n",
    "res.forward(1,1,1)\n",
    "res.backward()\n",
    "\n",
    "print(f\"1,1,1 输入的雅可比行列式为 \\n {res.y1_to_x1} {res.y1_to_x2} {res.y1_to_x3} \\n {res.y2_to_x1} {res.y2_to_x2} {res.y2_to_x3}\")"
   ]
  },
  {
   "cell_type": "code",
   "execution_count": 21,
   "metadata": {},
   "outputs": [
    {
     "name": "stdout",
     "output_type": "stream",
     "text": [
      "y1 = 64.08711522201764, y2 = -6.078667517564845\n",
      "2,1,3 输入的雅可比行列式为 \n",
      " 45.248661012182595 27.320405391278015 -24.266426122991554 \n",
      " 25.74837188319024 0.061386213049383465 23.646691702463592\n"
     ]
    }
   ],
   "source": [
    "res = Computational_Graph()\n",
    "res.forward(2,1,3)\n",
    "res.backward()\n",
    "\n",
    "print(f\"2,1,3 输入的雅可比行列式为 \\n {res.y1_to_x1} {res.y1_to_x2} {res.y1_to_x3} \\n {res.y2_to_x1} {res.y2_to_x2} {res.y2_to_x3}\")"
   ]
  },
  {
   "cell_type": "code",
   "execution_count": 22,
   "metadata": {},
   "outputs": [
    {
     "name": "stdout",
     "output_type": "stream",
     "text": [
      "y1 = 8.170384423581151, y2 = -0.05974457002445096\n",
      "-1,-1,-3 输入的雅可比行列式为 \n",
      " -34.72443898265999 -17.096059449164276 5.658613307843439 \n",
      " -4.530696293583008 -0.37929353394875487 -0.43903810397320575\n"
     ]
    }
   ],
   "source": [
    "res = Computational_Graph()\n",
    "res.forward(-1,-1,-3)\n",
    "res.backward()\n",
    "\n",
    "print(f\"-1,-1,-3 输入的雅可比行列式为 \\n {res.y1_to_x1} {res.y1_to_x2} {res.y1_to_x3} \\n {res.y2_to_x1} {res.y2_to_x2} {res.y2_to_x3}\")"
   ]
  },
  {
   "cell_type": "markdown",
   "metadata": {},
   "source": [
    "## 1.2 pytorch实现"
   ]
  },
  {
   "cell_type": "code",
   "execution_count": 23,
   "metadata": {},
   "outputs": [],
   "source": [
    "import torch\n",
    "\n",
    "class Net(torch.nn.Module):\n",
    "    def forward(self, x):\n",
    "            x1 = x[0]\n",
    "            x2 = x[1]\n",
    "            x3 = x[2]\n",
    "\n",
    "            z1 = 2*x1 + x2\n",
    "            z2= x1 * 3 * x3   \n",
    "            z3 = -x3\n",
    "\n",
    "            u1 =  torch.sin(z1)\n",
    "            u2 = (2 * x3)+z2\n",
    "            u3 =(2 * z1) + z3\n",
    "\n",
    "            v1 = u1 - u3\n",
    "            v2 = torch.sin(-1*u2)      \n",
    "            v3 = u1 * u3\n",
    "\n",
    "            y1 =  v1**2 + v2**3\n",
    "            y2 =  v2*v3\n",
    "\n",
    "            return y1,y2\n"
   ]
  },
  {
   "cell_type": "code",
   "execution_count": 24,
   "metadata": {},
   "outputs": [
    {
     "name": "stdout",
     "output_type": "stream",
     "text": [
      "tensor([ 55.7645,  29.0560, -13.6303], dtype=torch.float64)\n",
      "tensor([-9.5524, -4.4760, -1.1361], dtype=torch.float64)\n"
     ]
    }
   ],
   "source": [
    "x = torch.tensor([1,1,1], dtype=float, requires_grad=True)\n",
    "model = Net()\n",
    "out_1, out_2 = model(x)\n",
    "\n",
    "out_1.backward()\n",
    "\n",
    "print(x.grad)\n",
    "\n",
    "x = torch.tensor([1,1,1], dtype=float, requires_grad=True)\n",
    "model = Net()\n",
    "out_1, out_2 = model(x)\n",
    "\n",
    "out_2.backward()\n",
    "\n",
    "print(x.grad)"
   ]
  },
  {
   "cell_type": "code",
   "execution_count": 25,
   "metadata": {},
   "outputs": [
    {
     "name": "stdout",
     "output_type": "stream",
     "text": [
      "tensor([ 45.2487,  27.3204, -24.2664], dtype=torch.float64)\n",
      "tensor([25.7484,  0.0614, 23.6467], dtype=torch.float64)\n"
     ]
    }
   ],
   "source": [
    "x = torch.tensor([2,1,3], dtype=float, requires_grad=True)\n",
    "model = Net()\n",
    "out_1, out_2 = model(x)\n",
    "\n",
    "out_1.backward()\n",
    "\n",
    "print(x.grad)\n",
    "\n",
    "x = torch.tensor([2,1,3], dtype=float, requires_grad=True)\n",
    "model = Net()\n",
    "out_1, out_2 = model(x)\n",
    "\n",
    "out_2.backward()\n",
    "\n",
    "print(x.grad)"
   ]
  },
  {
   "cell_type": "code",
   "execution_count": 26,
   "metadata": {},
   "outputs": [
    {
     "name": "stdout",
     "output_type": "stream",
     "text": [
      "tensor([-34.7244, -17.0961,   5.6586], dtype=torch.float64)\n",
      "tensor([-4.5307, -0.3793, -0.4390], dtype=torch.float64)\n"
     ]
    }
   ],
   "source": [
    "x = torch.tensor([-1,-1,-3], dtype=float, requires_grad=True)\n",
    "model = Net()\n",
    "out_1, out_2 = model(x)\n",
    "\n",
    "out_1.backward()\n",
    "\n",
    "print(x.grad)\n",
    "\n",
    "x = torch.tensor([-1,-1,-3], dtype=float, requires_grad=True)\n",
    "model = Net()\n",
    "out_1, out_2 = model(x)\n",
    "\n",
    "out_2.backward()\n",
    "\n",
    "print(x.grad)"
   ]
  },
  {
   "cell_type": "markdown",
   "metadata": {},
   "source": [
    "# 任务二 numpy实现前向神经网络进行分类"
   ]
  },
  {
   "cell_type": "markdown",
   "metadata": {},
   "source": [
    "## 2.1 网络结构搭建"
   ]
  },
  {
   "cell_type": "code",
   "execution_count": 27,
   "metadata": {},
   "outputs": [],
   "source": [
    "# 初始化每一层的W、b矩阵\n",
    "def init_layers(nn_architecture, seed = 99):\n",
    "    np.random.seed(seed)\n",
    "    # number_of_layers = len(nn_architecture)\n",
    "    params_values = {}\n",
    "\n",
    "    for idx, layer in enumerate(nn_architecture):\n",
    "        layer_idx = idx + 1\n",
    "        layer_input_size = layer[\"input_dim\"]\n",
    "        layer_output_size = layer[\"output_dim\"]\n",
    "\n",
    "        # 每一层的参数W、b依次编号\n",
    "        # 不使用2个列表装载所有参数，每层参数独立命名\n",
    "        params_values['W' + str(layer_idx)] = np.random.randn(\n",
    "            layer_output_size, layer_input_size) * 0.1\n",
    "        params_values['b' + str(layer_idx)] = np.random.randn(\n",
    "            layer_output_size) * 0.1\n",
    "        \n",
    "    print(nn_architecture)\n",
    "    \n",
    "    return params_values\n",
    "\n",
    "# print(init_layers(nn_architecture))"
   ]
  },
  {
   "cell_type": "code",
   "execution_count": 28,
   "metadata": {},
   "outputs": [],
   "source": [
    "# 定义激活函数以及他们的导数\n",
    "def sigmoid(Z):\n",
    "    return 1/(1+np.exp(-Z))\n",
    "\n",
    "def sigmoid_backward(A, Z):\n",
    "    sig = sigmoid(Z)\n",
    "    dA = sig * (1 - sig)\n",
    "    return dA\n",
    "\n",
    "def softmax(Z):\n",
    "    A = np.exp(Z) / np.sum(np.exp(Z), axis = 0, keepdims = True)\n",
    "    return A"
   ]
  },
  {
   "cell_type": "code",
   "execution_count": 29,
   "metadata": {},
   "outputs": [],
   "source": [
    "# 定义前向传播(前一层输出A，本层W、b，激活函数)\n",
    "def single_forward(A, W, b, active_func):\n",
    "    Z = np.dot(W, A) + b\n",
    "    \n",
    "    return active_func(Z), Z\n",
    "\n",
    "def forward(X, params, nn_architecture):\n",
    "    memory = {} # 记忆字典，用来储存前向传播的结果，供之后的方向传播使用\n",
    "    A_curr = X \n",
    "\n",
    "    memory[\"A0\"] = A_curr # A_0是整个模型的输入，不存在A_last\n",
    "\n",
    "\n",
    "    for idx, layer in enumerate(nn_architecture):\n",
    "        layer_idx = idx + 1\n",
    "        A_prev = A_curr\n",
    "\n",
    "        # 开始本层传播\n",
    "        active_func_curr = layer[\"activation\"]\n",
    "        W_curr = params[\"W\" + str(layer_idx)]\n",
    "        b_curr = params[\"b\" + str(layer_idx)]\n",
    "        A_curr, Z_curr = single_forward(A_prev, W_curr, b_curr, active_func_curr)\n",
    "\n",
    "        #A0产生Z1，Z1激活产生A1，A1产生Z2，以此类推\n",
    "        memory[\"A\"+str(layer_idx)] = A_curr # A是某一层的经过激活函数的输出\n",
    "        memory[\"Z\"+str(layer_idx)] = Z_curr # 不存在Z_0，Z是某一层的没有经过激活函数的输出\n",
    "\n",
    "    return A_curr, memory\n"
   ]
  },
  {
   "cell_type": "markdown",
   "metadata": {},
   "source": [
    "### 2.2.1 反向传播的四个方程式\n",
    "1. 损失函数 对 隐藏层最后非激活输出Z 的偏导 = （损失函数 对 隐藏层最后激活输出a 的偏导） （*） （隐藏层最后激活函数 的导数 = 隐藏层最后激活输出 对 隐藏层最后非激活输出Z 的偏导）\n",
    "2. 损失函数 对 当前层最后非激活输出Z 的偏导 = （下一层权重W * （下一层 本值）） （*） （当前层最后激活函数 的导数）\n",
    "3. 损失函数 对 当前层权重W 的偏导 = （当前层 的2） * （上一层激活输出a）\n",
    "4. 损失函数 对 当前层偏置b 的偏导 = 当前层 的2"
   ]
  },
  {
   "cell_type": "code",
   "execution_count": 30,
   "metadata": {},
   "outputs": [],
   "source": [
    "# 损失函数——交叉商损失\n",
    "def cross_entropy_loss(Y_hat, Y):\n",
    "    delta=1e-10  # 避免出现log0\n",
    "    Y_hat = np.clip(Y_hat, delta, 1 - delta) \n",
    "\n",
    "    loss = -np.sum(Y * np.log(Y_hat))\n",
    "\n",
    "    return loss\n",
    "\n",
    "#  全层\n",
    "def backward(Y_hat, Y, memory, params, nn_architecture):\n",
    "    grads_values = {}\n",
    "    Y = Y.reshape(Y_hat.shape)\n",
    "\n",
    "    # 最后一层L_to_Z\n",
    "    dL_to_Z = Y_hat - Y # softmax交叉熵损失梯度 bp1\n",
    "    A_prev = memory[\"A\" + str(len(nn_architecture)-1)]\n",
    "\n",
    "    \n",
    "    dW_curr = np.outer(dL_to_Z, A_prev)    # bp3\n",
    "    db_curr = dL_to_Z # bp4\n",
    "\n",
    "    grads_values[\"dW\" + str(len(nn_architecture))] = dW_curr\n",
    "    grads_values[\"db\" + str(len(nn_architecture))] = db_curr\n",
    "\n",
    "\n",
    "    # 从最后第二层开始计算反向传播\n",
    "    for idx, layer in reversed(list(enumerate(nn_architecture))[:-1]):\n",
    "        layer_idx = idx + 1\n",
    "        dL_to_Z_next = dL_to_Z\n",
    "\n",
    "        # 开始本层方向传播\n",
    "        activ_function_curr = layer[\"activation\"]\n",
    "        A_prev = memory[\"A\" + str(idx)]\n",
    "        Z_curr = memory[\"Z\" + str(layer_idx)]\n",
    "        W_next = params[\"W\" + str(layer_idx + 1)]\n",
    "        b_curr = params[\"b\" + str(layer_idx)]\n",
    "        active_func_backward = globals()[activ_function_curr.__name__ + '_backward']\n",
    "\n",
    "        dL_to_Z = (W_next.T @ dL_to_Z_next) * active_func_backward(A_prev, Z_curr) # bp2\n",
    "        dW_curr = np.outer(dL_to_Z, A_prev)   # bp3\n",
    "        db_curr = dL_to_Z\n",
    "\n",
    "\n",
    "        grads_values[\"dW\" + str(layer_idx)] = dW_curr\n",
    "        grads_values[\"db\" + str(layer_idx)] = db_curr\n",
    "\n",
    "    return grads_values\n",
    "\n",
    "\n",
    "\n",
    "# 参数更新\n",
    "def update(params, grads_values, nn_architecture, learning_rate):\n",
    "    for idx, layer in enumerate(nn_architecture):\n",
    "        layer_idx =  idx + 1\n",
    "        params[\"W\" + str(layer_idx)] -= learning_rate * grads_values[\"dW\" + str(layer_idx)]       \n",
    "        params[\"b\" + str(layer_idx)] -= learning_rate * grads_values[\"db\" + str(layer_idx)]\n",
    "\n",
    "    return params;"
   ]
  },
  {
   "cell_type": "code",
   "execution_count": 48,
   "metadata": {},
   "outputs": [],
   "source": [
    "# 训练部分\n",
    "def train(epochs, learning_rate, nn_architecture):\n",
    "    cost_history = []\n",
    "    params = init_layers(nn_architecture, 123)\n",
    "\n",
    "    for i in range(epochs):\n",
    "        cost_history.append([])\n",
    "        all_cost = 0\n",
    "        for x,y in zip(X,Y):\n",
    "            y_hat, cache = forward(x, params, nn_architecture)\n",
    "\n",
    "            cost = cross_entropy_loss(y_hat, y)\n",
    "            cost_history[i].append(cost)\n",
    "\n",
    "            grads_values = backward(y_hat, y, cache, params, nn_architecture)\n",
    "            params = update(params, grads_values, nn_architecture, learning_rate)\n",
    "        \n",
    "        all_cost = np.sum(cost_history[i]) \n",
    "        cost_history[i].append(all_cost)\n",
    "\n",
    "        if i % 25 == 0:\n",
    "            print(\"epoch: {:03} - cost: {:.5f}\".format(i, all_cost))\n",
    "\n",
    "\n",
    "        # 观察cost记录中最后10个数据，如果变化幅度不超过1%，就停止\n",
    "        stop_flag = False\n",
    "        if len(cost_history) > 10:\n",
    "            last_10_costs = np.array(cost_history)[:, -1][-10:]\n",
    "            max_cost = max(last_10_costs)\n",
    "            min_cost = min(last_10_costs)\n",
    "            if (max_cost - min_cost) / max_cost < 0.01:\n",
    "                stop_flag = True\n",
    "        if stop_flag:\n",
    "            print(f\"Training stopped due to small cost change in epoch {i}.\")\n",
    "            break\n",
    "        \n",
    "    return params, cost_history\n",
    "\n",
    "\n"
   ]
  },
  {
   "cell_type": "markdown",
   "metadata": {},
   "source": [
    "## 2.2 读取数据集"
   ]
  },
  {
   "cell_type": "code",
   "execution_count": 49,
   "metadata": {},
   "outputs": [
    {
     "data": {
      "image/png": "[encoded data removed]",
      "text/plain": [
       "<Figure size 1200x600 with 10 Axes>"
      ]
     },
     "metadata": {},
     "output_type": "display_data"
    },
    {
     "data": {
      "image/png": "[encoded data removed]",
      "text/plain": [
       "<Figure size 1200x600 with 10 Axes>"
      ]
     },
     "metadata": {},
     "output_type": "display_data"
    },
    {
     "data": {
      "image/png": "[encoded data removed]",
      "text/plain": [
       "<Figure size 1200x600 with 10 Axes>"
      ]
     },
     "metadata": {},
     "output_type": "display_data"
    }
   ],
   "source": [
    "# 读取CSV文件并展示样本\n",
    "def read_csv_and_display_samples(csv_file, dataset_name = 'small', show_flag = True):\n",
    "    df = pd.read_csv(csv_file, header=None)\n",
    "\n",
    "    # 随机选择10个样本\n",
    "    random_samples = df.sample(n=10)\n",
    "\n",
    "    # 从CSV中提取图像数据\n",
    "    image_data = random_samples.drop(0, axis=1).values\n",
    "    image_class = random_samples[0].values\n",
    "\n",
    "    # a,” 1 to “e,” 2 to “g,” 3 to “i,” 4 to “l,” 5 to “n,” 6 to “o,” 7 to “r,” 8 to “t,” and 9 to “u.” \n",
    "    id_2_name = {0:'a', 1:'e', 2:'g', 3:'i', 4:'l', 5:'n', 6:'o', 7:'r', 8:'t', 9:'u'}\n",
    "\n",
    "    if show_flag:\n",
    "        # 显示图像\n",
    "        plt.figure(figsize=(12, 6))\n",
    "        for i in range(10):\n",
    "            plt.subplot(2, 5, i + 1)\n",
    "            # image = image_data[i].reshape(128, 128)  \n",
    "            image = image_data[i].reshape(16, 8)\n",
    "\n",
    "            plt.imshow(image, cmap='gray')\n",
    "            plt.title(f\"Sample: {id_2_name[image_class[i]]}\")\n",
    "\n",
    "        plt.suptitle(f\" {dataset_name} Dataset\")\n",
    "        plt.show()\n",
    "\n",
    "    return df.drop(0, axis=1).values, df[0].values\n",
    "\n",
    "# 读取并显示各个数据集的样本\n",
    "small_train_x, small_train_label = read_csv_and_display_samples('./图像分类-dataset/smallTrain.csv', 'Small')\n",
    "medium_train_x, medium_train_label = read_csv_and_display_samples('./图像分类-dataset/mediumTrain.csv', 'Medium')\n",
    "large_train_x, large_train_label = read_csv_and_display_samples('./图像分类-dataset/largeTrain.csv', 'Large')\n",
    "\n",
    "# 读取测试集\n",
    "small_val_x, small_val_label = read_csv_and_display_samples('./图像分类-dataset/smallValidation.csv', 'Small', False)\n",
    "medium_val_x, medium_val_label = read_csv_and_display_samples('./图像分类-dataset/mediumValidation.csv', 'Medium', False)\n",
    "large_val_x, large_val_label = read_csv_and_display_samples('./图像分类-dataset/largeValidation.csv', 'Large', False)\n",
    "\n",
    "\n"
   ]
  },
  {
   "cell_type": "markdown",
   "metadata": {},
   "source": [
    "##  2.3 三个数据集的训练与结果\n",
    "1. 分别利用small、medium、large三个数据集中的训练集对模型进行训练，绘制出loss函数变化情况。\n",
    "2. 模型训练完成后，分别在三个数据集的测试集上评价所训练出来的模型在测试集上预测准确率。\n",
    "3. 在small、medium、large三个数据集的每个测试集上给出5个示例，即: (测试图像+模型预测标签)\n"
   ]
  },
  {
   "cell_type": "code",
   "execution_count": 50,
   "metadata": {},
   "outputs": [],
   "source": [
    "def show_cost(cost_history):\n",
    "    plt.plot(np.array(cost_history)[:,-1],label='Training Loss')\n",
    "    plt.xlabel('Epoch')\n",
    "    plt.ylabel('Loss')\n",
    "    plt.legend()\n",
    "    plt.show()\n",
    "\n",
    "def acc_val(X, Y, params, nn_architecture):\n",
    "    i = 0\n",
    "\n",
    "    for x,y in zip(X, Y):\n",
    "        y_hat, _ = forward(x, params, nn_architecture)\n",
    "        y_predict_idx = np.argmax(y_hat)\n",
    "\n",
    "        if y_predict_idx == y:\n",
    "            i += 1\n",
    "\n",
    "    print(f\"The accuracy of validation dataset is {i/Y.shape[0]}\")\n",
    "\n",
    "    return i/Y.shape[0]"
   ]
  },
  {
   "cell_type": "markdown",
   "metadata": {},
   "source": [
    "### 2.3.1 small数据集"
   ]
  },
  {
   "cell_type": "code",
   "execution_count": 51,
   "metadata": {},
   "outputs": [
    {
     "name": "stdout",
     "output_type": "stream",
     "text": [
      "[{'input_dim': 128, 'output_dim': 64, 'activation': <function sigmoid at 0x17ef33560>}, {'input_dim': 64, 'output_dim': 64, 'activation': <function sigmoid at 0x17ef33560>}, {'input_dim': 64, 'output_dim': 10, 'activation': <function softmax at 0x17ef336a0>}]\n",
      "epoch: 000 - cost: 1176.94870\n",
      "epoch: 025 - cost: 565.93295\n",
      "epoch: 050 - cost: 206.63201\n",
      "epoch: 075 - cost: 114.78513\n",
      "epoch: 100 - cost: 66.80525\n",
      "epoch: 125 - cost: 39.93250\n",
      "epoch: 150 - cost: 26.32066\n",
      "epoch: 175 - cost: 18.90622\n",
      "epoch: 200 - cost: 14.76663\n",
      "epoch: 225 - cost: 12.32151\n",
      "epoch: 250 - cost: 10.76029\n",
      "epoch: 275 - cost: 9.69480\n",
      "epoch: 300 - cost: 8.92706\n",
      "epoch: 325 - cost: 8.34858\n",
      "epoch: 350 - cost: 7.89618\n",
      "epoch: 375 - cost: 7.53118\n",
      "epoch: 400 - cost: 7.22896\n",
      "epoch: 425 - cost: 6.97322\n",
      "epoch: 450 - cost: 6.75288\n",
      "epoch: 475 - cost: 6.56017\n",
      "Training stopped due to small cost change in epoch 477.\n"
     ]
    },
    {
     "data": {
      "image/png": "[encoded data removed]",
      "text/plain": [
       "<Figure size 640x480 with 1 Axes>"
      ]
     },
     "metadata": {},
     "output_type": "display_data"
    },
    {
     "name": "stdout",
     "output_type": "stream",
     "text": [
      "The accuracy of validation dataset is 0.68\n"
     ]
    }
   ],
   "source": [
    "# 网络基本结构\n",
    "nn_architecture = [\n",
    "    {\"input_dim\": 128, \"output_dim\":64, \"activation\": sigmoid},\n",
    "    {\"input_dim\": 64, \"output_dim\":64, \"activation\": sigmoid},\n",
    "    {\"input_dim\": 64, \"output_dim\": 10, \"activation\": softmax},\n",
    "]\n",
    "\n",
    "# 准备训练数据\n",
    "X = small_train_x\n",
    "X = np.array(X).reshape(-1, X.shape[1])\n",
    "Y = np.zeros((len(small_train_label), 10))\n",
    "for i in range(len(small_train_label)):\n",
    "    Y[i, small_train_label[i]] = 1\n",
    "Y = np.array(Y).reshape(-1, Y.shape[1])\n",
    "\n",
    "# 训练\n",
    "params, cost_history = train(500, 0.01, nn_architecture)\n",
    "show_cost(cost_history)\n",
    "\n",
    "# 准备验证数据\n",
    "x_valid = small_val_x\n",
    "x_valid = np.array(x_valid).reshape(-1,x_valid.shape[1])\n",
    "y_valid = small_val_label\n",
    "\n",
    "# 验证\n",
    "y_acc_result = acc_val(x_valid, y_valid, params, nn_architecture)"
   ]
  },
  {
   "cell_type": "markdown",
   "metadata": {},
   "source": [
    "### 2.3.2 mid数据集"
   ]
  },
  {
   "cell_type": "code",
   "execution_count": 53,
   "metadata": {},
   "outputs": [
    {
     "name": "stdout",
     "output_type": "stream",
     "text": [
      "[{'input_dim': 128, 'output_dim': 64, 'activation': <function sigmoid at 0x17ef33560>}, {'input_dim': 64, 'output_dim': 64, 'activation': <function sigmoid at 0x17ef33560>}, {'input_dim': 64, 'output_dim': 10, 'activation': <function softmax at 0x17ef336a0>}]\n",
      "epoch: 000 - cost: 11575.16446\n",
      "epoch: 025 - cost: 6373.38014\n",
      "epoch: 050 - cost: 3575.07253\n",
      "epoch: 075 - cost: 2935.36407\n",
      "epoch: 100 - cost: 2580.16744\n",
      "epoch: 125 - cost: 2307.72805\n",
      "epoch: 150 - cost: 2071.83013\n",
      "epoch: 175 - cost: 1858.82658\n",
      "epoch: 200 - cost: 1663.84884\n",
      "epoch: 225 - cost: 1486.12924\n",
      "epoch: 250 - cost: 1325.94323\n",
      "epoch: 275 - cost: 1182.60222\n",
      "epoch: 300 - cost: 1054.42910\n",
      "epoch: 325 - cost: 939.63823\n",
      "epoch: 350 - cost: 837.05222\n",
      "epoch: 375 - cost: 746.01760\n",
      "epoch: 400 - cost: 665.92494\n",
      "epoch: 425 - cost: 595.93805\n",
      "epoch: 450 - cost: 534.91714\n",
      "epoch: 475 - cost: 481.59298\n"
     ]
    },
    {
     "data": {
      "image/png": "[encoded data removed]",
      "text/plain": [
       "<Figure size 640x480 with 1 Axes>"
      ]
     },
     "metadata": {},
     "output_type": "display_data"
    },
    {
     "name": "stdout",
     "output_type": "stream",
     "text": [
      "The accuracy of validation dataset is 0.882\n"
     ]
    }
   ],
   "source": [
    "# 网络基本结构\n",
    "\n",
    "\n",
    "# 准备训练数据\n",
    "X = medium_train_x\n",
    "X = np.array(X).reshape(-1, X.shape[1])\n",
    "Y = np.zeros((len(medium_train_label), 10))\n",
    "for i in range(len(medium_train_label)):\n",
    "    Y[i, medium_train_label[i]] = 1\n",
    "Y = np.array(Y).reshape(-1, Y.shape[1])\n",
    "\n",
    "# 训练\n",
    "params, cost_history = train(500, 0.001, nn_architecture)\n",
    "show_cost(cost_history)\n",
    "\n",
    "# 准备验证数据\n",
    "x_valid = medium_val_x\n",
    "x_valid = np.array(x_valid).reshape(-1,x_valid.shape[1])\n",
    "y_valid = medium_val_label\n",
    "\n",
    "# 验证\n",
    "y_acc_result = acc_val(x_valid, y_valid, params, nn_architecture)\n"
   ]
  },
  {
   "cell_type": "markdown",
   "metadata": {},
   "source": [
    "### 2.3.3 large数据集"
   ]
  },
  {
   "cell_type": "code",
   "execution_count": 56,
   "metadata": {},
   "outputs": [
    {
     "ename": "IndexError",
     "evalue": "index 1000 is out of bounds for axis 0 with size 1000",
     "output_type": "error",
     "traceback": [
      "\u001b[0;31m---------------------------------------------------------------------------\u001b[0m",
      "\u001b[0;31mIndexError\u001b[0m                                Traceback (most recent call last)",
      "\u001b[1;32m/Users/zmc/LocalDoc/MyProject/LJ_ai_task/exp003/exp003.ipynb 单元格 29\u001b[0m line \u001b[0;36m9\n\u001b[1;32m      <a href='vscode-notebook-cell:/Users/zmc/LocalDoc/MyProject/LJ_ai_task/exp003/exp003.ipynb#X42sZmlsZQ%3D%3D?line=6'>7</a>\u001b[0m Y \u001b[39m=\u001b[39m np\u001b[39m.\u001b[39mzeros((\u001b[39mlen\u001b[39m(large_train_label), \u001b[39m10\u001b[39m))\n\u001b[1;32m      <a href='vscode-notebook-cell:/Users/zmc/LocalDoc/MyProject/LJ_ai_task/exp003/exp003.ipynb#X42sZmlsZQ%3D%3D?line=7'>8</a>\u001b[0m \u001b[39mfor\u001b[39;00m i \u001b[39min\u001b[39;00m \u001b[39mrange\u001b[39m(\u001b[39mlen\u001b[39m(large_train_label)):\n\u001b[0;32m----> <a href='vscode-notebook-cell:/Users/zmc/LocalDoc/MyProject/LJ_ai_task/exp003/exp003.ipynb#X42sZmlsZQ%3D%3D?line=8'>9</a>\u001b[0m     Y[i, large_val_label[i]] \u001b[39m=\u001b[39m \u001b[39m1\u001b[39m\n\u001b[1;32m     <a href='vscode-notebook-cell:/Users/zmc/LocalDoc/MyProject/LJ_ai_task/exp003/exp003.ipynb#X42sZmlsZQ%3D%3D?line=9'>10</a>\u001b[0m Y \u001b[39m=\u001b[39m np\u001b[39m.\u001b[39marray(Y)\u001b[39m.\u001b[39mreshape(\u001b[39m-\u001b[39m\u001b[39m1\u001b[39m, Y\u001b[39m.\u001b[39mshape[\u001b[39m1\u001b[39m])\n\u001b[1;32m     <a href='vscode-notebook-cell:/Users/zmc/LocalDoc/MyProject/LJ_ai_task/exp003/exp003.ipynb#X42sZmlsZQ%3D%3D?line=11'>12</a>\u001b[0m \u001b[39m# 训练\u001b[39;00m\n",
      "\u001b[0;31mIndexError\u001b[0m: index 1000 is out of bounds for axis 0 with size 1000"
     ]
    }
   ],
   "source": [
    "# 网络基本结构\n",
    "\n",
    "\n",
    "# 准备训练数据\n",
    "X = large_train_x\n",
    "X = np.array(X).reshape(-1, X.shape[1])\n",
    "Y = np.zeros((len(large_train_label), 10))\n",
    "for i in range(len(large_train_label)):\n",
    "    Y[i, large_train_label[i]] = 1\n",
    "Y = np.array(Y).reshape(-1, Y.shape[1])\n",
    "\n",
    "# 训练\n",
    "params, cost_history = train(500, 0.001, nn_architecture)\n",
    "show_cost(cost_history)\n",
    "\n",
    "# 准备验证数据\n",
    "x_valid = large_val_x\n",
    "x_valid = np.array(x_valid).reshape(-1,x_valid.shape[1])\n",
    "y_valid = large_val_label\n",
    "\n",
    "# 验证\n",
    "y_acc_result = acc_val(x_valid, y_valid, params, nn_architecture)"
   ]
  }
 ],
 "metadata": {
  "kernelspec": {
   "display_name": "Python 3",
   "language": "python",
   "name": "python3"
  },
  "language_info": {
   "codemirror_mode": {
    "name": "ipython",
    "version": 3
   },
   "file_extension": ".py",
   "mimetype": "text/x-python",
   "name": "python",
   "nbconvert_exporter": "python",
   "pygments_lexer": "ipython3",
   "version": "3.11.5"
  }
 },
 "nbformat": 4,
 "nbformat_minor": 2
}
